{
  "nbformat": 4,
  "nbformat_minor": 0,
  "metadata": {
    "colab": {
      "provenance": []
    },
    "kernelspec": {
      "name": "python3",
      "display_name": "Python 3"
    },
    "language_info": {
      "name": "python"
    }
  },
  "cells": [
    {
      "cell_type": "markdown",
      "source": [
        "Print \"Hello, World!\" to the console."
      ],
      "metadata": {
        "id": "aDr97tCazyuy"
      }
    },
    {
      "cell_type": "code",
      "source": [
        "print(\"Hello, World!\")"
      ],
      "metadata": {
        "colab": {
          "base_uri": "https://localhost:8080/"
        },
        "id": "uwQn8mw4z0PW",
        "outputId": "e39b86c2-4d26-4bd5-9d49-6ab453e11ed7"
      },
      "execution_count": 1,
      "outputs": [
        {
          "output_type": "stream",
          "name": "stdout",
          "text": [
            "Hello, World!\n"
          ]
        }
      ]
    },
    {
      "cell_type": "markdown",
      "source": [
        "Print the sum of two numbers to the console."
      ],
      "metadata": {
        "id": "BH4Kta6iz0Xs"
      }
    },
    {
      "cell_type": "code",
      "source": [
        "num1 = 5\n",
        "num2 = 10\n",
        "sum = num1 + num2\n",
        "print(\"The sum of\", num1, \"and\", num2, \"is\", sum)"
      ],
      "metadata": {
        "colab": {
          "base_uri": "https://localhost:8080/"
        },
        "id": "P4DqlH_jz0fx",
        "outputId": "5a5eeb60-421d-43b3-e575-fcdbfb3edb57"
      },
      "execution_count": 2,
      "outputs": [
        {
          "output_type": "stream",
          "name": "stdout",
          "text": [
            "The sum of 5 and 10 is 15\n"
          ]
        }
      ]
    },
    {
      "cell_type": "markdown",
      "source": [
        "Find the average of a list of numbers.\n"
      ],
      "metadata": {
        "id": "rwMh2N4vz0nH"
      }
    },
    {
      "cell_type": "code",
      "source": [
        "my_sum = 0\n",
        "my_numbers = [1, 2, 3, 4, 5]\n",
        "for num in my_numbers:\n",
        "    my_sum += num\n",
        "average = my_sum / len(my_numbers)\n",
        "print(\"The average of the numbers is\", average)"
      ],
      "metadata": {
        "colab": {
          "base_uri": "https://localhost:8080/"
        },
        "id": "Z7n_ogNoz0ve",
        "outputId": "95310a25-62f3-4c23-e239-11ca7672d1f8"
      },
      "execution_count": 5,
      "outputs": [
        {
          "output_type": "stream",
          "name": "stdout",
          "text": [
            "The average of the numbers is 3.0\n"
          ]
        }
      ]
    },
    {
      "cell_type": "markdown",
      "source": [
        "Generate a random integer between 1 and 100."
      ],
      "metadata": {
        "id": "QE4Z7TcLz05v"
      }
    },
    {
      "cell_type": "code",
      "source": [
        "import random\n",
        "random_number = random.randint(1, 100)\n",
        "print(\"The random number is\", random_number)"
      ],
      "metadata": {
        "colab": {
          "base_uri": "https://localhost:8080/"
        },
        "id": "JPPaCunOz1CI",
        "outputId": "924db011-c0c8-4b54-d49b-e2f3944d8fa9"
      },
      "execution_count": 6,
      "outputs": [
        {
          "output_type": "stream",
          "name": "stdout",
          "text": [
            "The random number is 77\n"
          ]
        }
      ]
    },
    {
      "cell_type": "markdown",
      "source": [
        "Check if a number is even or odd."
      ],
      "metadata": {
        "id": "0tT1qyF6z1I0"
      }
    },
    {
      "cell_type": "code",
      "source": [
        "number = 6\n",
        "if number % 2 == 0:\n",
        "    print(number, \"is even\")\n",
        "else:\n",
        "    print(number, \"is odd\")"
      ],
      "metadata": {
        "colab": {
          "base_uri": "https://localhost:8080/"
        },
        "id": "o2hs_Zigz1PZ",
        "outputId": "59f16901-29e1-43b8-808f-e617c891151d"
      },
      "execution_count": 7,
      "outputs": [
        {
          "output_type": "stream",
          "name": "stdout",
          "text": [
            "6 is even\n"
          ]
        }
      ]
    },
    {
      "cell_type": "markdown",
      "source": [
        "Reverse a string."
      ],
      "metadata": {
        "id": "UIpIiHbyz1Wn"
      }
    },
    {
      "cell_type": "code",
      "source": [
        "string = \"hello\"\n",
        "reverse_string = string[::-1]\n",
        "print(\"The reverse of\", string, \"is\", reverse_string)"
      ],
      "metadata": {
        "colab": {
          "base_uri": "https://localhost:8080/"
        },
        "id": "w-FuLzsA0ptb",
        "outputId": "5f368f3b-79cd-4ea5-e3c0-b4289a79d722"
      },
      "execution_count": 8,
      "outputs": [
        {
          "output_type": "stream",
          "name": "stdout",
          "text": [
            "The reverse of hello is olleh\n"
          ]
        }
      ]
    },
    {
      "cell_type": "markdown",
      "source": [
        "Check if a string is a palindrome."
      ],
      "metadata": {
        "id": "4oWaYg49z1j3"
      }
    },
    {
      "cell_type": "code",
      "source": [
        "string = \"racecar\"\n",
        "if string == string[::-1]:\n",
        "    print(string, \"is a palindrome\")\n",
        "else:\n",
        "    print(string, \"is not a palindrome\")\n"
      ],
      "metadata": {
        "colab": {
          "base_uri": "https://localhost:8080/"
        },
        "id": "LvZWlYBuz1rH",
        "outputId": "818d7746-b61c-4ab3-f488-858ea30388ff"
      },
      "execution_count": 9,
      "outputs": [
        {
          "output_type": "stream",
          "name": "stdout",
          "text": [
            "racecar is a palindrome\n"
          ]
        }
      ]
    },
    {
      "cell_type": "markdown",
      "source": [
        "Remove duplicates from a list."
      ],
      "metadata": {
        "id": "Pfriz9Cbz1yO"
      }
    },
    {
      "cell_type": "code",
      "source": [
        "numbers = [1, 2, 3, 3, 4, 5, 5]\n",
        "unique_numbers = list(set(numbers))\n",
        "print(\"The unique numbers are\", unique_numbers)\n"
      ],
      "metadata": {
        "colab": {
          "base_uri": "https://localhost:8080/"
        },
        "id": "gcv2cwZnz180",
        "outputId": "9f5dd8ec-e382-4cd4-a9d0-67aa4e69c0c2"
      },
      "execution_count": 10,
      "outputs": [
        {
          "output_type": "stream",
          "name": "stdout",
          "text": [
            "The unique numbers are [1, 2, 3, 4, 5]\n"
          ]
        }
      ]
    },
    {
      "cell_type": "markdown",
      "source": [
        "Find the minimum number in a list."
      ],
      "metadata": {
        "id": "2C5RKFk3z2EO"
      }
    },
    {
      "cell_type": "code",
      "source": [
        "numbers = [1, 2, 3, 4, 5]\n",
        "minimum_number = min(numbers)\n",
        "print(\"The minimum number is\", minimum_number)"
      ],
      "metadata": {
        "colab": {
          "base_uri": "https://localhost:8080/"
        },
        "id": "FuKdPe_az2LQ",
        "outputId": "c44e62cd-0160-4e40-ef15-8862912d100f"
      },
      "execution_count": 11,
      "outputs": [
        {
          "output_type": "stream",
          "name": "stdout",
          "text": [
            "The minimum number is 1\n"
          ]
        }
      ]
    },
    {
      "cell_type": "markdown",
      "source": [
        "Sort a list in ascending order."
      ],
      "metadata": {
        "id": "mEQQ1xJnz2Sw"
      }
    },
    {
      "cell_type": "code",
      "source": [
        "numbers = [5, 2, 1, 4, 3]\n",
        "sorted_numbers = sorted(numbers)\n",
        "print(\"The sorted numbers are\", sorted_numbers)\n"
      ],
      "metadata": {
        "colab": {
          "base_uri": "https://localhost:8080/"
        },
        "id": "Ep_UkPybz2Zm",
        "outputId": "9d1e6347-551c-43c2-f6e3-f22ff5bd6945"
      },
      "execution_count": 12,
      "outputs": [
        {
          "output_type": "stream",
          "name": "stdout",
          "text": [
            "The sorted numbers are [1, 2, 3, 4, 5]\n"
          ]
        }
      ]
    },
    {
      "cell_type": "markdown",
      "source": [
        "Sort a list in descending order."
      ],
      "metadata": {
        "id": "C8FHLU3rz2gW"
      }
    },
    {
      "cell_type": "code",
      "source": [
        "numbers = [5, 2, 1, 4, 3]\n",
        "sorted_numbers = sorted(numbers, reverse=True)\n",
        "print(\"The sorted numbers are\", sorted_numbers)\n"
      ],
      "metadata": {
        "colab": {
          "base_uri": "https://localhost:8080/"
        },
        "id": "xREZWZiYz2nS",
        "outputId": "2a461685-d6f8-4b24-ef7d-719dca34c42a"
      },
      "execution_count": 13,
      "outputs": [
        {
          "output_type": "stream",
          "name": "stdout",
          "text": [
            "The sorted numbers are [5, 4, 3, 2, 1]\n"
          ]
        }
      ]
    },
    {
      "cell_type": "markdown",
      "source": [
        "Add two matrices."
      ],
      "metadata": {
        "id": "O4R8ttQiz2vu"
      }
    },
    {
      "cell_type": "code",
      "source": [
        "matrix1 = [[1, 2, 3], [4, 5, 6], [7, 8, 9]]\n",
        "matrix2 = [[9, 8, 7], [6, 5, 4], [3, 2, 1]]\n",
        "result_matrix = [[0, 0, 0], [0, 0, 0], [0, 0, 0]]\n",
        "for i in range(len(matrix1)):\n",
        "    for j in range(len(matrix1[0])):\n",
        "        result_matrix[i][j] = matrix1[i][j] + matrix2[i][j]\n",
        "print(\"The sum of the matrices is\", result_matrix)\n"
      ],
      "metadata": {
        "colab": {
          "base_uri": "https://localhost:8080/"
        },
        "id": "sE8CaZ0az22B",
        "outputId": "3890f84d-7571-427d-e778-649a8ccf29ad"
      },
      "execution_count": 14,
      "outputs": [
        {
          "output_type": "stream",
          "name": "stdout",
          "text": [
            "The sum of the matrices is [[10, 10, 10], [10, 10, 10], [10, 10, 10]]\n"
          ]
        }
      ]
    },
    {
      "cell_type": "markdown",
      "source": [
        "Find the factorial of a number.\n"
      ],
      "metadata": {
        "id": "Y02wqM5Dz2-I"
      }
    },
    {
      "cell_type": "code",
      "source": [
        "number = 5\n",
        "factorial = 1\n",
        "for i in range(1, number + 1):\n",
        "    factorial *= i\n",
        "print(\"The factorial of\", number, \"is\", factorial)\n"
      ],
      "metadata": {
        "colab": {
          "base_uri": "https://localhost:8080/"
        },
        "id": "CfcTFyTxz3FZ",
        "outputId": "7dbd85b1-fbee-4f75-b995-bd4369833fd5"
      },
      "execution_count": 15,
      "outputs": [
        {
          "output_type": "stream",
          "name": "stdout",
          "text": [
            "The factorial of 5 is 120\n"
          ]
        }
      ]
    },
    {
      "cell_type": "markdown",
      "source": [
        "Find the GCD of two numbers."
      ],
      "metadata": {
        "id": "kif7iROmz3M2"
      }
    },
    {
      "cell_type": "code",
      "source": [
        "import math\n",
        "number1 = 24\n",
        "number2 = 36\n",
        "gcd = math.gcd(number1, number2)\n",
        "print(\"The GCD of\", number1, \"and\", number2, \"is\", gcd)\n",
        "\n"
      ],
      "metadata": {
        "colab": {
          "base_uri": "https://localhost:8080/"
        },
        "id": "pjdo0-pPz3TG",
        "outputId": "ea6ac75a-96f8-40e1-b58e-3c2dd945a7c5"
      },
      "execution_count": 16,
      "outputs": [
        {
          "output_type": "stream",
          "name": "stdout",
          "text": [
            "The GCD of 24 and 36 is 12\n"
          ]
        }
      ]
    },
    {
      "cell_type": "markdown",
      "source": [
        "Find the LCM of two numbers.\n"
      ],
      "metadata": {
        "id": "YQAxdGj6z3aw"
      }
    },
    {
      "cell_type": "code",
      "source": [
        "number1 = 24\n",
        "number2 = 36\n",
        "lcm = (number1 * number2) // math.gcd(number1, number2)\n",
        "print(\"The LCM of\", number1, \"and\", number2, \"is\", lcm)\n"
      ],
      "metadata": {
        "colab": {
          "base_uri": "https://localhost:8080/"
        },
        "id": "P733F5Mwz3h8",
        "outputId": "e3ed054c-9bb4-4bc7-8546-e8fa62822658"
      },
      "execution_count": 17,
      "outputs": [
        {
          "output_type": "stream",
          "name": "stdout",
          "text": [
            "The LCM of 24 and 36 is 72\n"
          ]
        }
      ]
    },
    {
      "cell_type": "markdown",
      "source": [
        "Find the square root of a number."
      ],
      "metadata": {
        "id": "-u5e47eXz3pi"
      }
    },
    {
      "cell_type": "code",
      "source": [
        "number = 16\n",
        "square_root = math.sqrt(number)\n",
        "print(\"The square root of\", number, \"is\", square_root)\n"
      ],
      "metadata": {
        "colab": {
          "base_uri": "https://localhost:8080/"
        },
        "id": "qE94cBS1z3wf",
        "outputId": "5c71db18-e764-4fd7-a755-e466ca25ec91"
      },
      "execution_count": 18,
      "outputs": [
        {
          "output_type": "stream",
          "name": "stdout",
          "text": [
            "The square root of 16 is 4.0\n"
          ]
        }
      ]
    },
    {
      "cell_type": "markdown",
      "source": [
        "Find the power of a number.\n"
      ],
      "metadata": {
        "id": "frdJl0uoz34I"
      }
    },
    {
      "cell_type": "code",
      "source": [
        "number = 2\n",
        "power = 3\n",
        "result = number ** power\n",
        "print(number, \"raised to the power of\", power, \"is\", result)\n"
      ],
      "metadata": {
        "colab": {
          "base_uri": "https://localhost:8080/"
        },
        "id": "-EDimKw5z3-v",
        "outputId": "4a1d319a-8fa0-49c1-e5ff-68803f0b46ca"
      },
      "execution_count": 19,
      "outputs": [
        {
          "output_type": "stream",
          "name": "stdout",
          "text": [
            "2 raised to the power of 3 is 8\n"
          ]
        }
      ]
    },
    {
      "cell_type": "markdown",
      "source": [
        "Convert Celsius to Fahrenheit.\n"
      ],
      "metadata": {
        "id": "L8-VCc5_z4F0"
      }
    },
    {
      "cell_type": "code",
      "source": [
        "celsius = 25\n",
        "fahrenheit = (celsius * 9/5) + 32\n",
        "print(celsius, \"degrees Celsius is\", fahrenheit, \"degrees Fahrenheit\")\n"
      ],
      "metadata": {
        "colab": {
          "base_uri": "https://localhost:8080/"
        },
        "id": "eZM2Znakz4M4",
        "outputId": "6e2a326d-68cb-4ae5-c284-0b24e0a281eb"
      },
      "execution_count": 20,
      "outputs": [
        {
          "output_type": "stream",
          "name": "stdout",
          "text": [
            "25 degrees Celsius is 77.0 degrees Fahrenheit\n"
          ]
        }
      ]
    },
    {
      "cell_type": "markdown",
      "source": [
        "Convert Fahrenheit to Celsius.\n"
      ],
      "metadata": {
        "id": "zoLybXuuz4UK"
      }
    },
    {
      "cell_type": "code",
      "source": [
        "fahrenheit = 77\n",
        "celsius = (fahrenheit - 32) * 5/9\n",
        "print(fahrenheit, \"degrees Fahrenheit is\", celsius, \"degrees Celsius\")\n"
      ],
      "metadata": {
        "colab": {
          "base_uri": "https://localhost:8080/"
        },
        "id": "IkeLD5s7z4bN",
        "outputId": "a0ba33aa-6410-4992-990b-ca9d0824e3c6"
      },
      "execution_count": 21,
      "outputs": [
        {
          "output_type": "stream",
          "name": "stdout",
          "text": [
            "77 degrees Fahrenheit is 25.0 degrees Celsius\n"
          ]
        }
      ]
    },
    {
      "cell_type": "markdown",
      "source": [
        "Convert kilometers to miles.\n"
      ],
      "metadata": {
        "id": "J6YxLULRz4iS"
      }
    },
    {
      "cell_type": "code",
      "source": [
        "kilometers = 10\n",
        "miles = kilometers / 1.609\n",
        "print(kilometers, \"kilometers is\", miles, \"miles\")\n"
      ],
      "metadata": {
        "colab": {
          "base_uri": "https://localhost:8080/"
        },
        "id": "GGL0BS5nz4p6",
        "outputId": "f452071f-f178-4abf-e91b-b04a9397fcf0"
      },
      "execution_count": 22,
      "outputs": [
        {
          "output_type": "stream",
          "name": "stdout",
          "text": [
            "10 kilometers is 6.215040397762586 miles\n"
          ]
        }
      ]
    },
    {
      "cell_type": "markdown",
      "source": [
        "Convert miles to kilometers.\n"
      ],
      "metadata": {
        "id": "HxEGVJy918p-"
      }
    },
    {
      "cell_type": "code",
      "source": [
        "miles = 6.2\n",
        "kilometers = miles * 1.609\n",
        "print(miles, \"miles is\", kilometers, \"kilometers\")\n"
      ],
      "metadata": {
        "colab": {
          "base_uri": "https://localhost:8080/"
        },
        "id": "w68UKxum1yH-",
        "outputId": "e88ac545-522b-44ca-c38c-3caf6977fad9"
      },
      "execution_count": 24,
      "outputs": [
        {
          "output_type": "stream",
          "name": "stdout",
          "text": [
            "6.2 miles is 9.9758 kilometers\n"
          ]
        }
      ]
    },
    {
      "cell_type": "markdown",
      "source": [
        "Find the length of a string."
      ],
      "metadata": {
        "id": "BpnYUGXf1yew"
      }
    },
    {
      "cell_type": "code",
      "source": [
        "string = \"Hello, World!\"\n",
        "length = len(string)\n",
        "print(\"The length of the string is\", length)\n"
      ],
      "metadata": {
        "colab": {
          "base_uri": "https://localhost:8080/"
        },
        "id": "wYrJD21M1ym8",
        "outputId": "8fcad8ad-233a-4a71-8534-29f242627e87"
      },
      "execution_count": 25,
      "outputs": [
        {
          "output_type": "stream",
          "name": "stdout",
          "text": [
            "The length of the string is 13\n"
          ]
        }
      ]
    },
    {
      "cell_type": "markdown",
      "source": [
        "Count the number of occurrences of a character in a string.\n"
      ],
      "metadata": {
        "id": "1QoClOlO1yua"
      }
    },
    {
      "cell_type": "code",
      "source": [
        "string = \"Hello, World!\"\n",
        "character = \"l\"\n",
        "count = string.count(character)\n",
        "print(\"The character\", character, \"appears\", count, \"times in the string\")\n"
      ],
      "metadata": {
        "colab": {
          "base_uri": "https://localhost:8080/"
        },
        "id": "iq5g1Avi1y3F",
        "outputId": "faaf80b8-c672-4332-9caf-ec58aebee96e"
      },
      "execution_count": 26,
      "outputs": [
        {
          "output_type": "stream",
          "name": "stdout",
          "text": [
            "The character l appears 3 times in the string\n"
          ]
        }
      ]
    },
    {
      "cell_type": "markdown",
      "source": [
        "Replace a character in a string."
      ],
      "metadata": {
        "id": "0z1Ss2yJ1y-9"
      }
    },
    {
      "cell_type": "code",
      "source": [
        "string = \"Hello, World!\"\n",
        "new_string = string.replace(\"o\", \"0\")\n",
        "print(\"The new string is\", new_string)\n"
      ],
      "metadata": {
        "colab": {
          "base_uri": "https://localhost:8080/"
        },
        "id": "7S_LEH9n1zGz",
        "outputId": "a270401b-d40d-408c-b951-2d5e528edba6"
      },
      "execution_count": 27,
      "outputs": [
        {
          "output_type": "stream",
          "name": "stdout",
          "text": [
            "The new string is Hell0, W0rld!\n"
          ]
        }
      ]
    },
    {
      "cell_type": "markdown",
      "source": [
        "Check if a string contains a substring."
      ],
      "metadata": {
        "id": "ySmU8oH31zRh"
      }
    },
    {
      "cell_type": "code",
      "source": [
        "string = \"Hello, World!\"\n",
        "substring = \"World\"\n",
        "if substring in string:\n",
        "    print(string, \"contains\", substring)\n",
        "else:\n",
        "    print(string, \"does not contain\", substring)\n"
      ],
      "metadata": {
        "colab": {
          "base_uri": "https://localhost:8080/"
        },
        "id": "8nO1hONl1zZ8",
        "outputId": "3cf5b526-a7e5-45f0-a845-1c1dc4d39927"
      },
      "execution_count": 28,
      "outputs": [
        {
          "output_type": "stream",
          "name": "stdout",
          "text": [
            "Hello, World! contains World\n"
          ]
        }
      ]
    },
    {
      "cell_type": "markdown",
      "source": [
        "Remove whitespace from the beginning and end of a string."
      ],
      "metadata": {
        "id": "pue0XkA31ziR"
      }
    },
    {
      "cell_type": "code",
      "source": [
        "string = \"   Hello, World!   \"\n",
        "new_string = string.strip()\n",
        "print(\"The new string is\", new_string)\n"
      ],
      "metadata": {
        "colab": {
          "base_uri": "https://localhost:8080/"
        },
        "id": "G0iYhU6P1zpi",
        "outputId": "d6895307-d14e-4bec-a1db-1142eceec1d6"
      },
      "execution_count": 29,
      "outputs": [
        {
          "output_type": "stream",
          "name": "stdout",
          "text": [
            "The new string is Hello, World!\n"
          ]
        }
      ]
    },
    {
      "cell_type": "markdown",
      "source": [
        "Split a string into a list."
      ],
      "metadata": {
        "id": "TxTk73MV1zwd"
      }
    },
    {
      "cell_type": "code",
      "source": [
        "string = \"apple, banana, cherry\"\n",
        "my_list = string.split(\", \")\n",
        "print(my_list)\n"
      ],
      "metadata": {
        "colab": {
          "base_uri": "https://localhost:8080/"
        },
        "id": "A48z0Fyi1z29",
        "outputId": "76f1d3d7-061c-4d1a-a675-4e0792699686"
      },
      "execution_count": 30,
      "outputs": [
        {
          "output_type": "stream",
          "name": "stdout",
          "text": [
            "['apple', 'banana', 'cherry']\n"
          ]
        }
      ]
    },
    {
      "cell_type": "markdown",
      "source": [
        "Reverse a string."
      ],
      "metadata": {
        "id": "SMZj_kLk1z9P"
      }
    },
    {
      "cell_type": "code",
      "source": [
        "string = \"Hello, World!\"\n",
        "new_string = string[::-1]\n",
        "print(\"The reversed string is\", new_string)\n"
      ],
      "metadata": {
        "colab": {
          "base_uri": "https://localhost:8080/"
        },
        "id": "3p2I36LQ10D5",
        "outputId": "5d10b448-5283-420b-a975-c2633115b28e"
      },
      "execution_count": 31,
      "outputs": [
        {
          "output_type": "stream",
          "name": "stdout",
          "text": [
            "The reversed string is !dlroW ,olleH\n"
          ]
        }
      ]
    },
    {
      "cell_type": "markdown",
      "source": [
        "Check if a string is a palindrome.\n"
      ],
      "metadata": {
        "id": "iLizUMnX10KR"
      }
    },
    {
      "cell_type": "code",
      "source": [
        "string = \"racecar\"\n",
        "if string == string[::-1]:\n",
        "    print(string, \"is a palindrome\")\n",
        "else:\n",
        "    print(string, \"is not a palindrome\")\n"
      ],
      "metadata": {
        "colab": {
          "base_uri": "https://localhost:8080/"
        },
        "id": "-ToQNE8b10QO",
        "outputId": "c56677af-af7a-4d00-ac7f-8d457fd5fcc4"
      },
      "execution_count": 32,
      "outputs": [
        {
          "output_type": "stream",
          "name": "stdout",
          "text": [
            "racecar is a palindrome\n"
          ]
        }
      ]
    },
    {
      "cell_type": "markdown",
      "source": [
        "Find the maximum element in a list."
      ],
      "metadata": {
        "id": "HFdWTedA10Wu"
      }
    },
    {
      "cell_type": "code",
      "source": [
        "my_list = [4, 7, 2, 9, 5]\n",
        "maximum = max(my_list)\n",
        "print(\"The maximum element in the list is\", maximum)\n"
      ],
      "metadata": {
        "colab": {
          "base_uri": "https://localhost:8080/"
        },
        "id": "QbZ2asuB10dL",
        "outputId": "9bdf5c6b-05d7-48a9-834e-5bfdaff20d09"
      },
      "execution_count": 33,
      "outputs": [
        {
          "output_type": "stream",
          "name": "stdout",
          "text": [
            "The maximum element in the list is 9\n"
          ]
        }
      ]
    },
    {
      "cell_type": "markdown",
      "source": [
        "Find the minimum element in a list.\n"
      ],
      "metadata": {
        "id": "-6s6P0Bv10ja"
      }
    },
    {
      "cell_type": "code",
      "source": [
        "my_list = [4, 7, 2, 9, 5]\n",
        "minimum = min(my_list)\n",
        "print(\"The minimum element in the list is\", minimum)\n"
      ],
      "metadata": {
        "colab": {
          "base_uri": "https://localhost:8080/"
        },
        "id": "CwsSCJtz10p9",
        "outputId": "41627773-f81a-49f1-f91f-a847bb53e705"
      },
      "execution_count": 34,
      "outputs": [
        {
          "output_type": "stream",
          "name": "stdout",
          "text": [
            "The minimum element in the list is 2\n"
          ]
        }
      ]
    },
    {
      "cell_type": "markdown",
      "source": [
        "Sort a list in ascending order.\n"
      ],
      "metadata": {
        "id": "WTb6I4SO10wf"
      }
    },
    {
      "cell_type": "code",
      "source": [
        "my_list = [4, 7, 2, 9, 5]\n",
        "my_list.sort()\n",
        "print(\"The sorted list in ascending order is\", my_list)\n"
      ],
      "metadata": {
        "colab": {
          "base_uri": "https://localhost:8080/"
        },
        "id": "WoOYP_eX102c",
        "outputId": "74b9f96c-36e4-455f-a8ac-689d0b090ad1"
      },
      "execution_count": 35,
      "outputs": [
        {
          "output_type": "stream",
          "name": "stdout",
          "text": [
            "The sorted list in ascending order is [2, 4, 5, 7, 9]\n"
          ]
        }
      ]
    },
    {
      "cell_type": "markdown",
      "source": [
        "Sort a list in descending order."
      ],
      "metadata": {
        "id": "8f05v1He2uHo"
      }
    },
    {
      "cell_type": "code",
      "source": [
        "my_list = [4, 7, 2, 9, 5]\n",
        "my_list.sort(reverse=True)\n",
        "print(\"The sorted list in descending order is\", my_list)\n"
      ],
      "metadata": {
        "colab": {
          "base_uri": "https://localhost:8080/"
        },
        "id": "GuaIsaEY2uQh",
        "outputId": "6bdbd221-7e74-4b38-88bf-6b9a9e8cbb99"
      },
      "execution_count": 37,
      "outputs": [
        {
          "output_type": "stream",
          "name": "stdout",
          "text": [
            "The sorted list in descending order is [9, 7, 5, 4, 2]\n"
          ]
        }
      ]
    },
    {
      "cell_type": "markdown",
      "source": [
        "Remove duplicates from a list.\n"
      ],
      "metadata": {
        "id": "KgigXd8d2uYG"
      }
    },
    {
      "cell_type": "code",
      "source": [
        "my_list = [4, 7, 2, 9, 5, 7, 4]\n",
        "new_list = list(set(my_list))\n",
        "print(\"The new list without duplicates is\", new_list)\n"
      ],
      "metadata": {
        "colab": {
          "base_uri": "https://localhost:8080/"
        },
        "id": "7WY_8Vg62ugJ",
        "outputId": "b0c48d69-7b5b-4453-e664-da5d95180752"
      },
      "execution_count": 38,
      "outputs": [
        {
          "output_type": "stream",
          "name": "stdout",
          "text": [
            "The new list without duplicates is [2, 4, 5, 7, 9]\n"
          ]
        }
      ]
    },
    {
      "cell_type": "markdown",
      "source": [
        "Merge two lists.\n"
      ],
      "metadata": {
        "id": "bWM9CAQs2umC"
      }
    },
    {
      "cell_type": "code",
      "source": [
        "list1 = [1, 2, 3]\n",
        "list2 = [4, 5, 6]\n",
        "merged_list = list1 + list2\n",
        "print(\"The merged list is\", merged_list)\n"
      ],
      "metadata": {
        "colab": {
          "base_uri": "https://localhost:8080/"
        },
        "id": "6dEn7NxM2utW",
        "outputId": "f57ad977-39b2-4326-98e5-0b2263239013"
      },
      "execution_count": 39,
      "outputs": [
        {
          "output_type": "stream",
          "name": "stdout",
          "text": [
            "The merged list is [1, 2, 3, 4, 5, 6]\n"
          ]
        }
      ]
    },
    {
      "cell_type": "markdown",
      "source": [
        "Count the number of elements in a list.\n"
      ],
      "metadata": {
        "id": "651QCtet2u0x"
      }
    },
    {
      "cell_type": "code",
      "source": [
        "my_list = [4, 7, 2, 9, 5]\n",
        "count = len(my_list)\n",
        "print(\"The number of elements in the list is\", count)\n"
      ],
      "metadata": {
        "colab": {
          "base_uri": "https://localhost:8080/"
        },
        "id": "TYd-1hll2u7W",
        "outputId": "a63ff47b-81d9-43b7-db15-9f444d51a735"
      },
      "execution_count": 40,
      "outputs": [
        {
          "output_type": "stream",
          "name": "stdout",
          "text": [
            "The number of elements in the list is 5\n"
          ]
        }
      ]
    },
    {
      "cell_type": "markdown",
      "source": [
        "Check if an element is in a list.\n"
      ],
      "metadata": {
        "id": "sftyeqb12vCn"
      }
    },
    {
      "cell_type": "code",
      "source": [
        "my_list = [4, 7, 2, 9, 5]\n",
        "element = 7\n",
        "if element in my_list:\n",
        "    print(element, \"is in the list\")\n",
        "else:\n",
        "    print(element, \"is not in the list\")\n"
      ],
      "metadata": {
        "colab": {
          "base_uri": "https://localhost:8080/"
        },
        "id": "6cQ94mfy2vJZ",
        "outputId": "03d29788-6afc-4529-efab-e116ad7edd90"
      },
      "execution_count": 41,
      "outputs": [
        {
          "output_type": "stream",
          "name": "stdout",
          "text": [
            "7 is in the list\n"
          ]
        }
      ]
    },
    {
      "cell_type": "markdown",
      "source": [
        "Access the first element of a tuple.\n"
      ],
      "metadata": {
        "id": "v74giUx92vQo"
      }
    },
    {
      "cell_type": "code",
      "source": [
        "my_tuple = (1, 2, 3, 4, 5)\n",
        "first_element = my_tuple[0]\n",
        "print(\"The first element of the tuple is\", first_element)\n"
      ],
      "metadata": {
        "colab": {
          "base_uri": "https://localhost:8080/"
        },
        "id": "GfyqNB762vaE",
        "outputId": "8546edea-fa3d-48d4-f6ca-d4cf46c3be47"
      },
      "execution_count": 42,
      "outputs": [
        {
          "output_type": "stream",
          "name": "stdout",
          "text": [
            "The first element of the tuple is 1\n"
          ]
        }
      ]
    },
    {
      "cell_type": "markdown",
      "source": [
        "Access the last element of a tuple.\n"
      ],
      "metadata": {
        "id": "t0P522pZ2vi2"
      }
    },
    {
      "cell_type": "code",
      "source": [
        "my_tuple = (1, 2, 3, 4, 5)\n",
        "last_element = my_tuple[-1]\n",
        "print(\"The last element of the tuple is\", last_element)\n"
      ],
      "metadata": {
        "colab": {
          "base_uri": "https://localhost:8080/"
        },
        "id": "iSSxU9RH2vqI",
        "outputId": "c3841c92-c048-45eb-cf12-d21cbfa85151"
      },
      "execution_count": 43,
      "outputs": [
        {
          "output_type": "stream",
          "name": "stdout",
          "text": [
            "The last element of the tuple is 5\n"
          ]
        }
      ]
    },
    {
      "cell_type": "markdown",
      "source": [
        "Concatenate two tuples.\n"
      ],
      "metadata": {
        "id": "3Jdtdfs02vx2"
      }
    },
    {
      "cell_type": "code",
      "source": [
        "tuple1 = (1, 2, 3)\n",
        "tuple2 = (4, 5, 6)\n",
        "concatenated_tuple = tuple1 + tuple2\n",
        "print(\"The concatenated tuple is\", concatenated_tuple)\n"
      ],
      "metadata": {
        "colab": {
          "base_uri": "https://localhost:8080/"
        },
        "id": "U30fFsRm2v4U",
        "outputId": "16163e14-c801-4788-c759-b27c6af822af"
      },
      "execution_count": 44,
      "outputs": [
        {
          "output_type": "stream",
          "name": "stdout",
          "text": [
            "The concatenated tuple is (1, 2, 3, 4, 5, 6)\n"
          ]
        }
      ]
    },
    {
      "cell_type": "markdown",
      "source": [
        "Find the length of a tuple.\n"
      ],
      "metadata": {
        "id": "4_tOkb9o2v__"
      }
    },
    {
      "cell_type": "code",
      "source": [
        "my_tuple = (1, 2, 3, 4, 5)\n",
        "length = len(my_tuple)\n",
        "print(\"The length of the tuple is\", length)\n"
      ],
      "metadata": {
        "colab": {
          "base_uri": "https://localhost:8080/"
        },
        "id": "pXygCMUf2wHK",
        "outputId": "ba045823-87cf-470b-ef99-59d6febcd8e3"
      },
      "execution_count": 45,
      "outputs": [
        {
          "output_type": "stream",
          "name": "stdout",
          "text": [
            "The length of the tuple is 5\n"
          ]
        }
      ]
    },
    {
      "cell_type": "markdown",
      "source": [
        "Check if an element is in a tuple.\n"
      ],
      "metadata": {
        "id": "oNnR_Ujf2wP8"
      }
    },
    {
      "cell_type": "code",
      "source": [
        "my_tuple = (1, 2, 3, 4, 5)\n",
        "element = 3\n",
        "if element in my_tuple:\n",
        "    print(element, \"is in the tuple\")\n",
        "else:\n",
        "    print(element, \"is not in the tuple\")\n"
      ],
      "metadata": {
        "colab": {
          "base_uri": "https://localhost:8080/"
        },
        "id": "L-lmamKL2wXh",
        "outputId": "bd4ed1f8-9497-4723-dcb7-317b3cfd9aca"
      },
      "execution_count": 46,
      "outputs": [
        {
          "output_type": "stream",
          "name": "stdout",
          "text": [
            "3 is in the tuple\n"
          ]
        }
      ]
    },
    {
      "cell_type": "markdown",
      "source": [
        "Create a dictionary with key-value pairs.\n"
      ],
      "metadata": {
        "id": "P6p_hbEi2wgQ"
      }
    },
    {
      "cell_type": "code",
      "source": [
        "my_dict = {\"apple\": 2, \"banana\": 4, \"cherry\": 6}\n",
        "print(my_dict)\n"
      ],
      "metadata": {
        "colab": {
          "base_uri": "https://localhost:8080/"
        },
        "id": "3xNl7BYs2wn2",
        "outputId": "6879c43b-184f-46b3-e3e3-edbdac167b9f"
      },
      "execution_count": 47,
      "outputs": [
        {
          "output_type": "stream",
          "name": "stdout",
          "text": [
            "{'apple': 2, 'banana': 4, 'cherry': 6}\n"
          ]
        }
      ]
    },
    {
      "cell_type": "markdown",
      "source": [
        "Access a value in a dictionary using its key.\n"
      ],
      "metadata": {
        "id": "zZOKaF5j2wvf"
      }
    },
    {
      "cell_type": "code",
      "source": [
        "my_dict = {\"apple\": 2, \"banana\": 4, \"cherry\": 6}\n",
        "value = my_dict[\"banana\"]\n",
        "print(\"The value of the 'banana' key is\", value)"
      ],
      "metadata": {
        "colab": {
          "base_uri": "https://localhost:8080/"
        },
        "id": "Cw_g720U2w27",
        "outputId": "a9138070-eda2-40df-9aa0-3d60049c09e7"
      },
      "execution_count": 48,
      "outputs": [
        {
          "output_type": "stream",
          "name": "stdout",
          "text": [
            "The value of the 'banana' key is 4\n"
          ]
        }
      ]
    },
    {
      "cell_type": "markdown",
      "source": [
        "Add a key-value pair to a dictionary.\n"
      ],
      "metadata": {
        "id": "XK2WdoYP2xCI"
      }
    },
    {
      "cell_type": "code",
      "source": [
        "my_dict = {\"apple\": 2, \"banana\": 4, \"cherry\": 6}\n",
        "my_dict[\"orange\"] = 8\n",
        "print(\"The updated dictionary is\", my_dict)"
      ],
      "metadata": {
        "colab": {
          "base_uri": "https://localhost:8080/"
        },
        "id": "VckZkQHB2xJx",
        "outputId": "4b437ba5-8d43-4f01-e879-11f4871e1430"
      },
      "execution_count": 50,
      "outputs": [
        {
          "output_type": "stream",
          "name": "stdout",
          "text": [
            "The updated dictionary is {'apple': 2, 'banana': 4, 'cherry': 6, 'orange': 8}\n"
          ]
        }
      ]
    },
    {
      "cell_type": "markdown",
      "source": [
        "Remove a key-value pair from a dictionary.\n"
      ],
      "metadata": {
        "id": "qX4hkuFM2xS_"
      }
    },
    {
      "cell_type": "code",
      "source": [
        "my_dict = {\"apple\": 2, \"banana\": 4, \"cherry\": 6}\n",
        "del my_dict[\"banana\"]\n",
        "print(\"The updated dictionary is\", my_dict)\n"
      ],
      "metadata": {
        "colab": {
          "base_uri": "https://localhost:8080/"
        },
        "id": "jOPguT0L2xag",
        "outputId": "4d8edf7e-9fff-4542-b9f2-5b77de7ecc2a"
      },
      "execution_count": 51,
      "outputs": [
        {
          "output_type": "stream",
          "name": "stdout",
          "text": [
            "The updated dictionary is {'apple': 2, 'cherry': 6}\n"
          ]
        }
      ]
    },
    {
      "cell_type": "markdown",
      "source": [
        "Check if a key is in a dictionary.\n"
      ],
      "metadata": {
        "id": "_NhKV1zt2xi2"
      }
    },
    {
      "cell_type": "code",
      "source": [
        "my_dict = {\"apple\": 2, \"banana\": 4, \"cherry\": 6}\n",
        "key = \"banana\"\n",
        "if key in my_dict:\n",
        "    print(key, \"is in the dictionary\")\n",
        "else:\n",
        "    print(key, \"is not in the dictionary\")\n"
      ],
      "metadata": {
        "colab": {
          "base_uri": "https://localhost:8080/"
        },
        "id": "t4i6hwHm2xqh",
        "outputId": "e75214be-a44a-4995-a9fd-c4e35eab0fe7"
      },
      "execution_count": 52,
      "outputs": [
        {
          "output_type": "stream",
          "name": "stdout",
          "text": [
            "banana is in the dictionary\n"
          ]
        }
      ]
    },
    {
      "cell_type": "markdown",
      "source": [
        "Get all the keys in a dictionary.\n"
      ],
      "metadata": {
        "id": "ffV36w7y2xy5"
      }
    },
    {
      "cell_type": "code",
      "source": [
        "my_dict = {\"apple\": 2, \"banana\": 4, \"cherry\": 6}\n",
        "keys = my_dict.keys()\n",
        "print(\"The keys in the dictionary are\", keys)\n"
      ],
      "metadata": {
        "colab": {
          "base_uri": "https://localhost:8080/"
        },
        "id": "k6baxclq2x9H",
        "outputId": "e130217a-e6dc-4dcc-9ee4-5beea006d57e"
      },
      "execution_count": 53,
      "outputs": [
        {
          "output_type": "stream",
          "name": "stdout",
          "text": [
            "The keys in the dictionary are dict_keys(['apple', 'banana', 'cherry'])\n"
          ]
        }
      ]
    },
    {
      "cell_type": "markdown",
      "source": [
        "Get all the values in a dictionary.\n"
      ],
      "metadata": {
        "id": "PVWgy9r64HO-"
      }
    },
    {
      "cell_type": "code",
      "source": [
        "my_dict = {\"apple\": 2, \"banana\": 4, \"cherry\": 6}\n",
        "values = my_dict.values()\n",
        "print(\"The values in the dictionary are\", values)\n"
      ],
      "metadata": {
        "colab": {
          "base_uri": "https://localhost:8080/"
        },
        "id": "gpdSXcxL4HZh",
        "outputId": "c279a4b3-e5e0-46e9-f9ae-4ad20c03fdd8"
      },
      "execution_count": 54,
      "outputs": [
        {
          "output_type": "stream",
          "name": "stdout",
          "text": [
            "The values in the dictionary are dict_values([2, 4, 6])\n"
          ]
        }
      ]
    },
    {
      "cell_type": "markdown",
      "source": [
        "Get all the key-value pairs in a dictionary.\n"
      ],
      "metadata": {
        "id": "KoPhI0Bk4Hia"
      }
    },
    {
      "cell_type": "code",
      "source": [
        "my_dict = {\"apple\": 2, \"banana\": 4, \"cherry\": 6}\n",
        "items = my_dict.items()\n",
        "print(\"The key-value pairs in the dictionary are\", items)\n"
      ],
      "metadata": {
        "colab": {
          "base_uri": "https://localhost:8080/"
        },
        "id": "hwA40pA14Hqe",
        "outputId": "1e02c51b-0beb-4c68-92ee-fafb57d57d16"
      },
      "execution_count": 55,
      "outputs": [
        {
          "output_type": "stream",
          "name": "stdout",
          "text": [
            "The key-value pairs in the dictionary are dict_items([('apple', 2), ('banana', 4), ('cherry', 6)])\n"
          ]
        }
      ]
    },
    {
      "cell_type": "markdown",
      "source": [
        "Loop through a dictionary and print its key-value pairs.\n"
      ],
      "metadata": {
        "id": "3bqj7kh94HyC"
      }
    },
    {
      "cell_type": "code",
      "source": [
        "my_dict = {\"apple\": 2, \"banana\": 4, \"cherry\": 6}\n",
        "for key, value in my_dict.items():\n",
        "    print(key, \"=\", value)\n"
      ],
      "metadata": {
        "colab": {
          "base_uri": "https://localhost:8080/"
        },
        "id": "Ca4WediJ4H5t",
        "outputId": "1484b87b-ba0d-47e1-d561-0e6d3fb8b487"
      },
      "execution_count": 56,
      "outputs": [
        {
          "output_type": "stream",
          "name": "stdout",
          "text": [
            "apple = 2\n",
            "banana = 4\n",
            "cherry = 6\n"
          ]
        }
      ]
    },
    {
      "cell_type": "markdown",
      "source": [
        "Sort a list of integers in ascending order.\n"
      ],
      "metadata": {
        "id": "RVLp79Mi4ICC"
      }
    },
    {
      "cell_type": "code",
      "source": [
        "my_list = [3, 1, 4, 1, 5, 9, 2, 6, 5, 3, 5]\n",
        "my_list.sort()\n",
        "print(\"The sorted list is\", my_list)\n"
      ],
      "metadata": {
        "colab": {
          "base_uri": "https://localhost:8080/"
        },
        "id": "Wh21iYhz4IJZ",
        "outputId": "b69d9722-9de0-4d8a-b56b-787f73b2b8bf"
      },
      "execution_count": 57,
      "outputs": [
        {
          "output_type": "stream",
          "name": "stdout",
          "text": [
            "The sorted list is [1, 1, 2, 3, 3, 4, 5, 5, 5, 6, 9]\n"
          ]
        }
      ]
    },
    {
      "cell_type": "markdown",
      "source": [
        "Sort a list of strings in alphabetical order.\n"
      ],
      "metadata": {
        "id": "GmM5fzeX4ZVk"
      }
    },
    {
      "cell_type": "code",
      "source": [
        "my_list = [\"apple\", \"banana\", \"cherry\", \"date\", \"elderberry\"]\n",
        "my_list.sort()\n",
        "print(\"The sorted list is\", my_list)"
      ],
      "metadata": {
        "colab": {
          "base_uri": "https://localhost:8080/"
        },
        "id": "v2NOUvMi4Wif",
        "outputId": "bb84ca75-a0cd-47ae-b082-2eeee4eb769b"
      },
      "execution_count": 59,
      "outputs": [
        {
          "output_type": "stream",
          "name": "stdout",
          "text": [
            "The sorted list is ['apple', 'banana', 'cherry', 'date', 'elderberry']\n"
          ]
        }
      ]
    },
    {
      "cell_type": "markdown",
      "source": [
        "Reverse a list.\n"
      ],
      "metadata": {
        "id": "i0JIE28b4gBY"
      }
    },
    {
      "cell_type": "code",
      "source": [
        "my_list = [1, 2, 3, 4, 5]\n",
        "my_list.reverse()\n",
        "print(\"The reversed list is\", my_list)\n"
      ],
      "metadata": {
        "colab": {
          "base_uri": "https://localhost:8080/"
        },
        "id": "3utcp02P4YF3",
        "outputId": "fd4b4603-3902-4567-8b43-cabcab8310a0"
      },
      "execution_count": 60,
      "outputs": [
        {
          "output_type": "stream",
          "name": "stdout",
          "text": [
            "The reversed list is [5, 4, 3, 2, 1]\n"
          ]
        }
      ]
    }
  ]
}